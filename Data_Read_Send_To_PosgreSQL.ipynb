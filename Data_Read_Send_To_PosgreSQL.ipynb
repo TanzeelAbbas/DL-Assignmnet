{
 "cells": [
  {
   "cell_type": "markdown",
   "metadata": {},
   "source": [
    "### **Load & Read Dataset**"
   ]
  },
  {
   "cell_type": "code",
   "execution_count": 11,
   "metadata": {},
   "outputs": [],
   "source": [
    "# Import necessary Libraries\n",
    "import pandas as pd\n",
    "import numpy as np"
   ]
  },
  {
   "cell_type": "code",
   "execution_count": 14,
   "metadata": {},
   "outputs": [],
   "source": [
    "# Read the CSV file\n",
    "df = pd.read_csv('Global_Electricity_Statistics_Updated.csv')"
   ]
  },
  {
   "cell_type": "code",
   "execution_count": 15,
   "metadata": {},
   "outputs": [
    {
     "data": {
      "text/html": [
       "<div>\n",
       "<style scoped>\n",
       "    .dataframe tbody tr th:only-of-type {\n",
       "        vertical-align: middle;\n",
       "    }\n",
       "\n",
       "    .dataframe tbody tr th {\n",
       "        vertical-align: top;\n",
       "    }\n",
       "\n",
       "    .dataframe thead th {\n",
       "        text-align: right;\n",
       "    }\n",
       "</style>\n",
       "<table border=\"1\" class=\"dataframe\">\n",
       "  <thead>\n",
       "    <tr style=\"text-align: right;\">\n",
       "      <th></th>\n",
       "      <th>Country</th>\n",
       "      <th>Features</th>\n",
       "      <th>Region</th>\n",
       "      <th>1980</th>\n",
       "      <th>1981</th>\n",
       "      <th>1982</th>\n",
       "      <th>1983</th>\n",
       "      <th>1984</th>\n",
       "      <th>1985</th>\n",
       "      <th>1986</th>\n",
       "      <th>...</th>\n",
       "      <th>2012</th>\n",
       "      <th>2013</th>\n",
       "      <th>2014</th>\n",
       "      <th>2015</th>\n",
       "      <th>2016</th>\n",
       "      <th>2017</th>\n",
       "      <th>2018</th>\n",
       "      <th>2019</th>\n",
       "      <th>2020</th>\n",
       "      <th>2021</th>\n",
       "    </tr>\n",
       "  </thead>\n",
       "  <tbody>\n",
       "    <tr>\n",
       "      <th>0</th>\n",
       "      <td>Algeria</td>\n",
       "      <td>net generation</td>\n",
       "      <td>Africa</td>\n",
       "      <td>6.683</td>\n",
       "      <td>7.650</td>\n",
       "      <td>8.824</td>\n",
       "      <td>9.615</td>\n",
       "      <td>10.537</td>\n",
       "      <td>11.569</td>\n",
       "      <td>12.214</td>\n",
       "      <td>...</td>\n",
       "      <td>53.98450</td>\n",
       "      <td>56.31340</td>\n",
       "      <td>60.39972</td>\n",
       "      <td>64.68244</td>\n",
       "      <td>66.755040</td>\n",
       "      <td>71.49546</td>\n",
       "      <td>72.10903</td>\n",
       "      <td>76.68500</td>\n",
       "      <td>72.735913</td>\n",
       "      <td>77.530727</td>\n",
       "    </tr>\n",
       "    <tr>\n",
       "      <th>1</th>\n",
       "      <td>Angola</td>\n",
       "      <td>net generation</td>\n",
       "      <td>Africa</td>\n",
       "      <td>0.905</td>\n",
       "      <td>0.906</td>\n",
       "      <td>0.995</td>\n",
       "      <td>1.028</td>\n",
       "      <td>1.028</td>\n",
       "      <td>1.028</td>\n",
       "      <td>1.088</td>\n",
       "      <td>...</td>\n",
       "      <td>6.03408</td>\n",
       "      <td>7.97606</td>\n",
       "      <td>9.21666</td>\n",
       "      <td>9.30914</td>\n",
       "      <td>10.203511</td>\n",
       "      <td>10.67604</td>\n",
       "      <td>12.83194</td>\n",
       "      <td>15.40000</td>\n",
       "      <td>16.600000</td>\n",
       "      <td>16.429392</td>\n",
       "    </tr>\n",
       "    <tr>\n",
       "      <th>2</th>\n",
       "      <td>Benin</td>\n",
       "      <td>net generation</td>\n",
       "      <td>Africa</td>\n",
       "      <td>0.005</td>\n",
       "      <td>0.005</td>\n",
       "      <td>0.005</td>\n",
       "      <td>0.005</td>\n",
       "      <td>0.005</td>\n",
       "      <td>0.005</td>\n",
       "      <td>0.005</td>\n",
       "      <td>...</td>\n",
       "      <td>0.04612</td>\n",
       "      <td>0.08848</td>\n",
       "      <td>0.22666</td>\n",
       "      <td>0.31056</td>\n",
       "      <td>0.260040</td>\n",
       "      <td>0.31150</td>\n",
       "      <td>0.19028</td>\n",
       "      <td>0.20170</td>\n",
       "      <td>0.226080</td>\n",
       "      <td>0.241097</td>\n",
       "    </tr>\n",
       "    <tr>\n",
       "      <th>3</th>\n",
       "      <td>Botswana</td>\n",
       "      <td>net generation</td>\n",
       "      <td>Africa</td>\n",
       "      <td>0.443</td>\n",
       "      <td>0.502</td>\n",
       "      <td>0.489</td>\n",
       "      <td>0.434</td>\n",
       "      <td>0.445</td>\n",
       "      <td>0.456</td>\n",
       "      <td>0.538</td>\n",
       "      <td>...</td>\n",
       "      <td>0.33000</td>\n",
       "      <td>0.86868</td>\n",
       "      <td>2.17628</td>\n",
       "      <td>2.79104</td>\n",
       "      <td>2.529840</td>\n",
       "      <td>2.84380</td>\n",
       "      <td>2.97076</td>\n",
       "      <td>3.04690</td>\n",
       "      <td>2.051440</td>\n",
       "      <td>2.182348</td>\n",
       "    </tr>\n",
       "    <tr>\n",
       "      <th>4</th>\n",
       "      <td>Burkina Faso</td>\n",
       "      <td>net generation</td>\n",
       "      <td>Africa</td>\n",
       "      <td>0.098</td>\n",
       "      <td>0.108</td>\n",
       "      <td>0.115</td>\n",
       "      <td>0.117</td>\n",
       "      <td>0.113</td>\n",
       "      <td>0.115</td>\n",
       "      <td>0.122</td>\n",
       "      <td>...</td>\n",
       "      <td>0.86834</td>\n",
       "      <td>0.98268</td>\n",
       "      <td>1.11808</td>\n",
       "      <td>1.43986</td>\n",
       "      <td>1.550900</td>\n",
       "      <td>1.64602</td>\n",
       "      <td>1.64640</td>\n",
       "      <td>1.72552</td>\n",
       "      <td>1.647133</td>\n",
       "      <td>1.761210</td>\n",
       "    </tr>\n",
       "  </tbody>\n",
       "</table>\n",
       "<p>5 rows × 45 columns</p>\n",
       "</div>"
      ],
      "text/plain": [
       "                Country        Features  Region   1980   1981   1982   1983  \\\n",
       "0               Algeria  net generation  Africa  6.683  7.650  8.824  9.615   \n",
       "1                Angola  net generation  Africa  0.905  0.906  0.995  1.028   \n",
       "2                 Benin  net generation  Africa  0.005  0.005  0.005  0.005   \n",
       "3              Botswana  net generation  Africa  0.443  0.502  0.489  0.434   \n",
       "4          Burkina Faso  net generation  Africa  0.098  0.108  0.115  0.117   \n",
       "\n",
       "     1984    1985    1986  ...      2012      2013      2014      2015  \\\n",
       "0  10.537  11.569  12.214  ...  53.98450  56.31340  60.39972  64.68244   \n",
       "1   1.028   1.028   1.088  ...   6.03408   7.97606   9.21666   9.30914   \n",
       "2   0.005   0.005   0.005  ...   0.04612   0.08848   0.22666   0.31056   \n",
       "3   0.445   0.456   0.538  ...   0.33000   0.86868   2.17628   2.79104   \n",
       "4   0.113   0.115   0.122  ...   0.86834   0.98268   1.11808   1.43986   \n",
       "\n",
       "        2016      2017      2018      2019       2020       2021  \n",
       "0  66.755040  71.49546  72.10903  76.68500  72.735913  77.530727  \n",
       "1  10.203511  10.67604  12.83194  15.40000  16.600000  16.429392  \n",
       "2   0.260040   0.31150   0.19028   0.20170   0.226080   0.241097  \n",
       "3   2.529840   2.84380   2.97076   3.04690   2.051440   2.182348  \n",
       "4   1.550900   1.64602   1.64640   1.72552   1.647133   1.761210  \n",
       "\n",
       "[5 rows x 45 columns]"
      ]
     },
     "execution_count": 15,
     "metadata": {},
     "output_type": "execute_result"
    }
   ],
   "source": [
    "df.head()"
   ]
  },
  {
   "cell_type": "code",
   "execution_count": 16,
   "metadata": {},
   "outputs": [
    {
     "name": "stdout",
     "output_type": "stream",
     "text": [
      "<class 'pandas.core.frame.DataFrame'>\n",
      "RangeIndex: 1610 entries, 0 to 1609\n",
      "Data columns (total 45 columns):\n",
      " #   Column    Non-Null Count  Dtype  \n",
      "---  ------    --------------  -----  \n",
      " 0   Country   1610 non-null   object \n",
      " 1   Features  1610 non-null   object \n",
      " 2   Region    1610 non-null   object \n",
      " 3   1980      1358 non-null   float64\n",
      " 4   1981      1358 non-null   float64\n",
      " 5   1982      1358 non-null   float64\n",
      " 6   1983      1358 non-null   float64\n",
      " 7   1984      1358 non-null   float64\n",
      " 8   1985      1358 non-null   float64\n",
      " 9   1986      1365 non-null   float64\n",
      " 10  1987      1358 non-null   float64\n",
      " 11  1988      1358 non-null   float64\n",
      " 12  1989      1358 non-null   float64\n",
      " 13  1990      1365 non-null   float64\n",
      " 14  1991      1358 non-null   float64\n",
      " 15  1992      1484 non-null   float64\n",
      " 16  1993      1491 non-null   float64\n",
      " 17  1994      1498 non-null   float64\n",
      " 18  1995      1498 non-null   float64\n",
      " 19  1996      1498 non-null   float64\n",
      " 20  1997      1505 non-null   float64\n",
      " 21  1998      1505 non-null   float64\n",
      " 22  1999      1505 non-null   float64\n",
      " 23  2000      1505 non-null   float64\n",
      " 24  2001      1505 non-null   float64\n",
      " 25  2002      1505 non-null   float64\n",
      " 26  2003      1512 non-null   float64\n",
      " 27  2004      1512 non-null   float64\n",
      " 28  2005      1512 non-null   float64\n",
      " 29  2006      1519 non-null   float64\n",
      " 30  2007      1519 non-null   float64\n",
      " 31  2008      1526 non-null   float64\n",
      " 32  2009      1526 non-null   float64\n",
      " 33  2010      1526 non-null   float64\n",
      " 34  2011      1526 non-null   float64\n",
      " 35  2012      1521 non-null   float64\n",
      " 36  2013      1521 non-null   float64\n",
      " 37  2014      1521 non-null   float64\n",
      " 38  2015      1521 non-null   float64\n",
      " 39  2016      1521 non-null   float64\n",
      " 40  2017      1521 non-null   float64\n",
      " 41  2018      1521 non-null   float64\n",
      " 42  2019      1521 non-null   float64\n",
      " 43  2020      1511 non-null   float64\n",
      " 44  2021      1509 non-null   float64\n",
      "dtypes: float64(42), object(3)\n",
      "memory usage: 566.1+ KB\n"
     ]
    }
   ],
   "source": [
    "df.info()"
   ]
  },
  {
   "cell_type": "code",
   "execution_count": 17,
   "metadata": {},
   "outputs": [],
   "source": [
    "# convert the data type of the column 'Country' to string\n",
    "df['Country'] = df['Country'].astype(str)"
   ]
  },
  {
   "cell_type": "code",
   "execution_count": 18,
   "metadata": {},
   "outputs": [],
   "source": [
    "# convert the data type of the column 'Feature' to string\n",
    "df['Features'] = df['Features'].astype(str)"
   ]
  },
  {
   "cell_type": "code",
   "execution_count": 19,
   "metadata": {},
   "outputs": [],
   "source": [
    "# convert the data type of the column 'Region' to string\n",
    "df['Region'] = df['Region'].astype(str)"
   ]
  },
  {
   "cell_type": "code",
   "execution_count": 20,
   "metadata": {},
   "outputs": [],
   "source": [
    "# Verify the changes\n",
    "df = df.astype({'Country': 'string', 'Features': 'string', 'Region': 'string'})"
   ]
  },
  {
   "cell_type": "code",
   "execution_count": 21,
   "metadata": {},
   "outputs": [
    {
     "name": "stdout",
     "output_type": "stream",
     "text": [
      "<class 'pandas.core.frame.DataFrame'>\n",
      "RangeIndex: 1610 entries, 0 to 1609\n",
      "Data columns (total 45 columns):\n",
      " #   Column    Non-Null Count  Dtype  \n",
      "---  ------    --------------  -----  \n",
      " 0   Country   1610 non-null   string \n",
      " 1   Features  1610 non-null   string \n",
      " 2   Region    1610 non-null   string \n",
      " 3   1980      1358 non-null   float64\n",
      " 4   1981      1358 non-null   float64\n",
      " 5   1982      1358 non-null   float64\n",
      " 6   1983      1358 non-null   float64\n",
      " 7   1984      1358 non-null   float64\n",
      " 8   1985      1358 non-null   float64\n",
      " 9   1986      1365 non-null   float64\n",
      " 10  1987      1358 non-null   float64\n",
      " 11  1988      1358 non-null   float64\n",
      " 12  1989      1358 non-null   float64\n",
      " 13  1990      1365 non-null   float64\n",
      " 14  1991      1358 non-null   float64\n",
      " 15  1992      1484 non-null   float64\n",
      " 16  1993      1491 non-null   float64\n",
      " 17  1994      1498 non-null   float64\n",
      " 18  1995      1498 non-null   float64\n",
      " 19  1996      1498 non-null   float64\n",
      " 20  1997      1505 non-null   float64\n",
      " 21  1998      1505 non-null   float64\n",
      " 22  1999      1505 non-null   float64\n",
      " 23  2000      1505 non-null   float64\n",
      " 24  2001      1505 non-null   float64\n",
      " 25  2002      1505 non-null   float64\n",
      " 26  2003      1512 non-null   float64\n",
      " 27  2004      1512 non-null   float64\n",
      " 28  2005      1512 non-null   float64\n",
      " 29  2006      1519 non-null   float64\n",
      " 30  2007      1519 non-null   float64\n",
      " 31  2008      1526 non-null   float64\n",
      " 32  2009      1526 non-null   float64\n",
      " 33  2010      1526 non-null   float64\n",
      " 34  2011      1526 non-null   float64\n",
      " 35  2012      1521 non-null   float64\n",
      " 36  2013      1521 non-null   float64\n",
      " 37  2014      1521 non-null   float64\n",
      " 38  2015      1521 non-null   float64\n",
      " 39  2016      1521 non-null   float64\n",
      " 40  2017      1521 non-null   float64\n",
      " 41  2018      1521 non-null   float64\n",
      " 42  2019      1521 non-null   float64\n",
      " 43  2020      1511 non-null   float64\n",
      " 44  2021      1509 non-null   float64\n",
      "dtypes: float64(42), string(3)\n",
      "memory usage: 566.1 KB\n"
     ]
    }
   ],
   "source": [
    "df.info()"
   ]
  },
  {
   "cell_type": "markdown",
   "metadata": {},
   "source": [
    "### **Establish a Connection With Postgresql**"
   ]
  },
  {
   "cell_type": "code",
   "execution_count": 1,
   "metadata": {},
   "outputs": [],
   "source": [
    "# import library\n",
    "import psycopg2"
   ]
  },
  {
   "cell_type": "code",
   "execution_count": 2,
   "metadata": {},
   "outputs": [],
   "source": [
    "# PostgreSQL connection details\n",
    "host = 'localhost'  # Default host for local PostgreSQL installation\n",
    "port = '5432'  # Default port for PostgreSQL\n",
    "database = 'global_electricity_statistics'  # Database name\n",
    "user = 'postgres'  # Default username for PostgreSQL\n",
    "password = 'postgres'  # Default password for PostgreSQL"
   ]
  },
  {
   "cell_type": "code",
   "execution_count": 3,
   "metadata": {},
   "outputs": [
    {
     "name": "stdout",
     "output_type": "stream",
     "text": [
      "Connected to the PostgreSQL database successfully.\n"
     ]
    }
   ],
   "source": [
    "try:\n",
    "    # Establish a connection\n",
    "    conn = psycopg2.connect(host=host, port=port, database=database, user=user, password=password)\n",
    "\n",
    "    # Print a success message\n",
    "    print(\"Connected to the PostgreSQL database successfully.\")\n",
    "\n",
    "except psycopg2.Error as e:\n",
    "    # Print any errors that occur\n",
    "    print(\"Error: Could not connect to the PostgreSQL database.\")\n",
    "    print(e)"
   ]
  },
  {
   "cell_type": "markdown",
   "metadata": {},
   "source": [
    "- #### **Create test_table and insert sample data into it and then read it**"
   ]
  },
  {
   "cell_type": "code",
   "execution_count": 4,
   "metadata": {},
   "outputs": [],
   "source": [
    "# Create a cursor object\n",
    "cur = conn.cursor()"
   ]
  },
  {
   "cell_type": "code",
   "execution_count": null,
   "metadata": {},
   "outputs": [],
   "source": [
    "# SQL query to create a test table\n",
    "create_table_query = '''\n",
    "    CREATE TABLE test_table (\n",
    "        id SERIAL PRIMARY KEY,\n",
    "        name VARCHAR(255),\n",
    "    )\n",
    "'''\n",
    "\n",
    "# Execute the CREATE TABLE query\n",
    "cur.execute(create_table_query)"
   ]
  },
  {
   "cell_type": "code",
   "execution_count": null,
   "metadata": {},
   "outputs": [],
   "source": [
    "# SQL query to insert data into the test table\n",
    "insert_query = '''\n",
    "    INSERT INTO test_table (id , name)\n",
    "    VALUES\n",
    "        (1,'John Doe'),\n",
    "        (2,'Jane Smith'),\n",
    "        (3, 'Michael Johnson')\n",
    "'''\n",
    "cur.execute(insert_query)\n"
   ]
  },
  {
   "cell_type": "code",
   "execution_count": null,
   "metadata": {},
   "outputs": [],
   "source": [
    "# Commit the changes\n",
    "conn.commit()"
   ]
  },
  {
   "cell_type": "code",
   "execution_count": 8,
   "metadata": {},
   "outputs": [],
   "source": [
    "# Execute the SELECT query\n",
    "cur.execute('SELECT * FROM public.\"test_table\";')"
   ]
  },
  {
   "cell_type": "code",
   "execution_count": 9,
   "metadata": {},
   "outputs": [],
   "source": [
    "# Fetch the data returned\n",
    "data = cur.fetchall()"
   ]
  },
  {
   "cell_type": "code",
   "execution_count": 11,
   "metadata": {},
   "outputs": [
    {
     "name": "stdout",
     "output_type": "stream",
     "text": [
      "(1, 'Alice')\n",
      "(2, 'Bob')\n",
      "(3, 'Charlie')\n"
     ]
    }
   ],
   "source": [
    "# Print the results\n",
    "for row in data:\n",
    "    print(row)"
   ]
  },
  {
   "cell_type": "code",
   "execution_count": 31,
   "metadata": {},
   "outputs": [],
   "source": [
    "# SQL query to drop the test_table\n",
    "drop_table_query = 'DROP TABLE IF EXISTS test_table'"
   ]
  },
  {
   "cell_type": "code",
   "execution_count": 32,
   "metadata": {},
   "outputs": [],
   "source": [
    "# Execute the DROP TABLE query\n",
    "cur.execute(drop_table_query)"
   ]
  },
  {
   "cell_type": "code",
   "execution_count": 33,
   "metadata": {},
   "outputs": [],
   "source": [
    "# Commit the changes\n",
    "conn.commit()"
   ]
  },
  {
   "cell_type": "code",
   "execution_count": 34,
   "metadata": {},
   "outputs": [],
   "source": [
    "# Close the cursor and connection\n",
    "cur.close()\n",
    "conn.close()"
   ]
  },
  {
   "cell_type": "markdown",
   "metadata": {},
   "source": [
    "- #### **Create original_data table along with correct data types in PostgreSQL**"
   ]
  },
  {
   "cell_type": "code",
   "execution_count": 24,
   "metadata": {},
   "outputs": [],
   "source": [
    "# get the original data column names\n",
    "df_column = df.columns\n",
    "# Extract column names from the df_column list\n",
    "columns = df_column.tolist()"
   ]
  },
  {
   "cell_type": "code",
   "execution_count": 26,
   "metadata": {},
   "outputs": [],
   "source": [
    "# Remove the first three columns (Country, Features, Region) as they have a different datatype\n",
    "columns = columns[3:]"
   ]
  },
  {
   "cell_type": "code",
   "execution_count": 37,
   "metadata": {},
   "outputs": [],
   "source": [
    "# Create a cursor object\n",
    "cur = conn.cursor()"
   ]
  },
  {
   "cell_type": "code",
   "execution_count": 42,
   "metadata": {},
   "outputs": [],
   "source": [
    "# SQL query to create the table with specified column names and datatypes\n",
    "create_table_query = f'''\n",
    "    CREATE TABLE original_data (\n",
    "        Country VARCHAR(255),\n",
    "        Features VARCHAR(255),\n",
    "        Region VARCHAR(255),\n",
    "        {\", \".join(f'\"{col}\" FLOAT' for col in columns)}\n",
    "    )\n",
    "'''\n",
    "\n",
    "# Execute the CREATE TABLE query\n",
    "cur.execute(create_table_query)"
   ]
  },
  {
   "cell_type": "code",
   "execution_count": 43,
   "metadata": {},
   "outputs": [],
   "source": [
    "# Commit the changes\n",
    "conn.commit()"
   ]
  },
  {
   "cell_type": "code",
   "execution_count": null,
   "metadata": {},
   "outputs": [],
   "source": [
    "# Now I manually import the csv file into the table using pgAdmin"
   ]
  },
  {
   "cell_type": "code",
   "execution_count": 5,
   "metadata": {},
   "outputs": [],
   "source": [
    "# After importing the csv file into the table, I can query the table to verify the data\n",
    "# Execute the SELECT query\n",
    "cur.execute('SELECT * FROM public.\"original_data\";')"
   ]
  },
  {
   "cell_type": "code",
   "execution_count": 6,
   "metadata": {},
   "outputs": [],
   "source": [
    "# Fetch all the rows\n",
    "rows = cur.fetchall()\n",
    "\n",
    "# Get the column names\n",
    "columns = [desc[0] for desc in cur.description]"
   ]
  },
  {
   "cell_type": "code",
   "execution_count": 8,
   "metadata": {},
   "outputs": [],
   "source": [
    "import pandas as pd\n",
    "# Create a DataFrame with the fetched data and column names\n",
    "df = pd.DataFrame(rows, columns=columns)"
   ]
  },
  {
   "cell_type": "code",
   "execution_count": 10,
   "metadata": {},
   "outputs": [
    {
     "data": {
      "text/html": [
       "<div>\n",
       "<style scoped>\n",
       "    .dataframe tbody tr th:only-of-type {\n",
       "        vertical-align: middle;\n",
       "    }\n",
       "\n",
       "    .dataframe tbody tr th {\n",
       "        vertical-align: top;\n",
       "    }\n",
       "\n",
       "    .dataframe thead th {\n",
       "        text-align: right;\n",
       "    }\n",
       "</style>\n",
       "<table border=\"1\" class=\"dataframe\">\n",
       "  <thead>\n",
       "    <tr style=\"text-align: right;\">\n",
       "      <th></th>\n",
       "      <th>country</th>\n",
       "      <th>features</th>\n",
       "      <th>region</th>\n",
       "      <th>1980</th>\n",
       "      <th>1981</th>\n",
       "      <th>1982</th>\n",
       "      <th>1983</th>\n",
       "      <th>1984</th>\n",
       "      <th>1985</th>\n",
       "      <th>1986</th>\n",
       "      <th>...</th>\n",
       "      <th>2012</th>\n",
       "      <th>2013</th>\n",
       "      <th>2014</th>\n",
       "      <th>2015</th>\n",
       "      <th>2016</th>\n",
       "      <th>2017</th>\n",
       "      <th>2018</th>\n",
       "      <th>2019</th>\n",
       "      <th>2020</th>\n",
       "      <th>2021</th>\n",
       "    </tr>\n",
       "  </thead>\n",
       "  <tbody>\n",
       "    <tr>\n",
       "      <th>0</th>\n",
       "      <td>Algeria</td>\n",
       "      <td>net generation</td>\n",
       "      <td>Africa</td>\n",
       "      <td>6.683</td>\n",
       "      <td>7.650</td>\n",
       "      <td>8.824</td>\n",
       "      <td>9.615</td>\n",
       "      <td>10.537</td>\n",
       "      <td>11.569</td>\n",
       "      <td>12.214</td>\n",
       "      <td>...</td>\n",
       "      <td>53.98450</td>\n",
       "      <td>56.31340</td>\n",
       "      <td>60.39972</td>\n",
       "      <td>64.68244</td>\n",
       "      <td>66.755040</td>\n",
       "      <td>71.49546</td>\n",
       "      <td>72.10903</td>\n",
       "      <td>76.68500</td>\n",
       "      <td>72.735913</td>\n",
       "      <td>77.530727</td>\n",
       "    </tr>\n",
       "    <tr>\n",
       "      <th>1</th>\n",
       "      <td>Angola</td>\n",
       "      <td>net generation</td>\n",
       "      <td>Africa</td>\n",
       "      <td>0.905</td>\n",
       "      <td>0.906</td>\n",
       "      <td>0.995</td>\n",
       "      <td>1.028</td>\n",
       "      <td>1.028</td>\n",
       "      <td>1.028</td>\n",
       "      <td>1.088</td>\n",
       "      <td>...</td>\n",
       "      <td>6.03408</td>\n",
       "      <td>7.97606</td>\n",
       "      <td>9.21666</td>\n",
       "      <td>9.30914</td>\n",
       "      <td>10.203511</td>\n",
       "      <td>10.67604</td>\n",
       "      <td>12.83194</td>\n",
       "      <td>15.40000</td>\n",
       "      <td>16.600000</td>\n",
       "      <td>16.429392</td>\n",
       "    </tr>\n",
       "    <tr>\n",
       "      <th>2</th>\n",
       "      <td>Benin</td>\n",
       "      <td>net generation</td>\n",
       "      <td>Africa</td>\n",
       "      <td>0.005</td>\n",
       "      <td>0.005</td>\n",
       "      <td>0.005</td>\n",
       "      <td>0.005</td>\n",
       "      <td>0.005</td>\n",
       "      <td>0.005</td>\n",
       "      <td>0.005</td>\n",
       "      <td>...</td>\n",
       "      <td>0.04612</td>\n",
       "      <td>0.08848</td>\n",
       "      <td>0.22666</td>\n",
       "      <td>0.31056</td>\n",
       "      <td>0.260040</td>\n",
       "      <td>0.31150</td>\n",
       "      <td>0.19028</td>\n",
       "      <td>0.20170</td>\n",
       "      <td>0.226080</td>\n",
       "      <td>0.241097</td>\n",
       "    </tr>\n",
       "    <tr>\n",
       "      <th>3</th>\n",
       "      <td>Botswana</td>\n",
       "      <td>net generation</td>\n",
       "      <td>Africa</td>\n",
       "      <td>0.443</td>\n",
       "      <td>0.502</td>\n",
       "      <td>0.489</td>\n",
       "      <td>0.434</td>\n",
       "      <td>0.445</td>\n",
       "      <td>0.456</td>\n",
       "      <td>0.538</td>\n",
       "      <td>...</td>\n",
       "      <td>0.33000</td>\n",
       "      <td>0.86868</td>\n",
       "      <td>2.17628</td>\n",
       "      <td>2.79104</td>\n",
       "      <td>2.529840</td>\n",
       "      <td>2.84380</td>\n",
       "      <td>2.97076</td>\n",
       "      <td>3.04690</td>\n",
       "      <td>2.051440</td>\n",
       "      <td>2.182348</td>\n",
       "    </tr>\n",
       "    <tr>\n",
       "      <th>4</th>\n",
       "      <td>Burkina Faso</td>\n",
       "      <td>net generation</td>\n",
       "      <td>Africa</td>\n",
       "      <td>0.098</td>\n",
       "      <td>0.108</td>\n",
       "      <td>0.115</td>\n",
       "      <td>0.117</td>\n",
       "      <td>0.113</td>\n",
       "      <td>0.115</td>\n",
       "      <td>0.122</td>\n",
       "      <td>...</td>\n",
       "      <td>0.86834</td>\n",
       "      <td>0.98268</td>\n",
       "      <td>1.11808</td>\n",
       "      <td>1.43986</td>\n",
       "      <td>1.550900</td>\n",
       "      <td>1.64602</td>\n",
       "      <td>1.64640</td>\n",
       "      <td>1.72552</td>\n",
       "      <td>1.647133</td>\n",
       "      <td>1.761210</td>\n",
       "    </tr>\n",
       "  </tbody>\n",
       "</table>\n",
       "<p>5 rows × 45 columns</p>\n",
       "</div>"
      ],
      "text/plain": [
       "                country        features  region   1980   1981   1982   1983  \\\n",
       "0               Algeria  net generation  Africa  6.683  7.650  8.824  9.615   \n",
       "1                Angola  net generation  Africa  0.905  0.906  0.995  1.028   \n",
       "2                 Benin  net generation  Africa  0.005  0.005  0.005  0.005   \n",
       "3              Botswana  net generation  Africa  0.443  0.502  0.489  0.434   \n",
       "4          Burkina Faso  net generation  Africa  0.098  0.108  0.115  0.117   \n",
       "\n",
       "     1984    1985    1986  ...      2012      2013      2014      2015  \\\n",
       "0  10.537  11.569  12.214  ...  53.98450  56.31340  60.39972  64.68244   \n",
       "1   1.028   1.028   1.088  ...   6.03408   7.97606   9.21666   9.30914   \n",
       "2   0.005   0.005   0.005  ...   0.04612   0.08848   0.22666   0.31056   \n",
       "3   0.445   0.456   0.538  ...   0.33000   0.86868   2.17628   2.79104   \n",
       "4   0.113   0.115   0.122  ...   0.86834   0.98268   1.11808   1.43986   \n",
       "\n",
       "        2016      2017      2018      2019       2020       2021  \n",
       "0  66.755040  71.49546  72.10903  76.68500  72.735913  77.530727  \n",
       "1  10.203511  10.67604  12.83194  15.40000  16.600000  16.429392  \n",
       "2   0.260040   0.31150   0.19028   0.20170   0.226080   0.241097  \n",
       "3   2.529840   2.84380   2.97076   3.04690   2.051440   2.182348  \n",
       "4   1.550900   1.64602   1.64640   1.72552   1.647133   1.761210  \n",
       "\n",
       "[5 rows x 45 columns]"
      ]
     },
     "execution_count": 10,
     "metadata": {},
     "output_type": "execute_result"
    }
   ],
   "source": [
    "# Print the DataFrame\n",
    "df.head()"
   ]
  },
  {
   "cell_type": "markdown",
   "metadata": {},
   "source": [
    "- #### **Create Normalized Schema in the PostgreSQL**"
   ]
  },
  {
   "cell_type": "markdown",
   "metadata": {},
   "source": [
    "- **Table 1. Create Countries Table**"
   ]
  },
  {
   "cell_type": "code",
   "execution_count": 57,
   "metadata": {},
   "outputs": [],
   "source": [
    "# SQL query to create the countries_data table\n",
    "create_countries_table_query = '''\n",
    "    CREATE TABLE countries_data (\n",
    "        CountryID SERIAL PRIMARY KEY,\n",
    "        Country VARCHAR(255),\n",
    "        Region VARCHAR(255)\n",
    "    )\n",
    "'''\n",
    "\n",
    "# Execute the CREATE TABLE query\n",
    "cur.execute(create_countries_table_query)"
   ]
  },
  {
   "cell_type": "code",
   "execution_count": 58,
   "metadata": {},
   "outputs": [
    {
     "name": "stdout",
     "output_type": "stream",
     "text": [
      "Table 'countries_data' created successfully.\n"
     ]
    }
   ],
   "source": [
    "# Commit the changes\n",
    "conn.commit()\n",
    "\n",
    "# Print a message indicating the table creation\n",
    "print(\"Table 'countries_data' created successfully.\")"
   ]
  },
  {
   "cell_type": "markdown",
   "metadata": {},
   "source": [
    "- **Table 2. Create Electricity Transaction Table**"
   ]
  },
  {
   "cell_type": "code",
   "execution_count": 59,
   "metadata": {},
   "outputs": [],
   "source": [
    "# SQL query to create the electricity_transaction table\n",
    "create_transaction_table_query = '''\n",
    "    CREATE TABLE electricity_transaction (\n",
    "        TransactionID SERIAL PRIMARY KEY,\n",
    "        TransactionType VARCHAR(255)\n",
    "    )\n",
    "'''\n",
    "\n",
    "# Execute the CREATE TABLE query\n",
    "cur.execute(create_transaction_table_query)"
   ]
  },
  {
   "cell_type": "code",
   "execution_count": 60,
   "metadata": {},
   "outputs": [],
   "source": [
    "# Predefined transaction types\n",
    "transaction_types = ['Net Generation', 'Net Consumption', 'Imports', 'Exports', 'Net Imports', 'Installed Capacity', 'Distribution Losses']"
   ]
  },
  {
   "cell_type": "code",
   "execution_count": 61,
   "metadata": {},
   "outputs": [],
   "source": [
    "# SQL query to insert predefined transaction types\n",
    "insert_transaction_types_query = '''\n",
    "    INSERT INTO electricity_transaction (TransactionType) VALUES {}\n",
    "'''.format(\", \".join([\"('{}')\".format(transaction_type) for transaction_type in transaction_types]))"
   ]
  },
  {
   "cell_type": "code",
   "execution_count": 62,
   "metadata": {},
   "outputs": [],
   "source": [
    "# Execute the INSERT query\n",
    "cur.execute(insert_transaction_types_query)\n",
    "\n",
    "# Commit the changes\n",
    "conn.commit()"
   ]
  },
  {
   "cell_type": "code",
   "execution_count": 63,
   "metadata": {},
   "outputs": [
    {
     "name": "stdout",
     "output_type": "stream",
     "text": [
      "Table 'electricity_transaction' created and predefined values inserted successfully.\n"
     ]
    }
   ],
   "source": [
    "# Print a message indicating the table creation and data insertion\n",
    "print(\"Table 'electricity_transaction' created and predefined values inserted successfully.\")"
   ]
  },
  {
   "cell_type": "code",
   "execution_count": 71,
   "metadata": {},
   "outputs": [],
   "source": [
    "# Execute the SELECT query\n",
    "cur.execute('SELECT * FROM public.\"electricity_transaction\";')"
   ]
  },
  {
   "cell_type": "code",
   "execution_count": 72,
   "metadata": {},
   "outputs": [
    {
     "name": "stdout",
     "output_type": "stream",
     "text": [
      "[(1, 'Net Generation'), (2, 'Net Consumption'), (3, 'Imports'), (4, 'Exports'), (5, 'Net Imports'), (6, 'Installed Capacity'), (7, 'Distribution Losses')]\n"
     ]
    }
   ],
   "source": [
    "# Fetch all the rows\n",
    "data = cur.fetchall()\n",
    "print([i for i in data])"
   ]
  },
  {
   "cell_type": "markdown",
   "metadata": {},
   "source": [
    "- **Table 3. Create Electricity Transaction Table**"
   ]
  },
  {
   "cell_type": "code",
   "execution_count": 105,
   "metadata": {},
   "outputs": [],
   "source": [
    "# SQL query to create the yearly_statistics table with foreign key constraints\n",
    "create_yearly_statistics_table_query = '''\n",
    "    CREATE TABLE yearly_statistics (\n",
    "        StatID SERIAL PRIMARY KEY,\n",
    "        CountryID INT,\n",
    "        TransactionID INT,\n",
    "        {},\n",
    "        FOREIGN KEY (CountryID) REFERENCES countries_data(CountryID),\n",
    "        FOREIGN KEY (TransactionID) REFERENCES electricity_transaction(TransactionID)\n",
    "    )\n",
    "'''\n",
    "\n",
    "# Columns for each year in the format \"XXXX FLOAT\"\n",
    "year_columns = ', '.join([f'\"{col}\" FLOAT' for col in columns[3:]])\n",
    "\n",
    "# Execute the CREATE TABLE query\n",
    "cur.execute(create_yearly_statistics_table_query.format(year_columns))"
   ]
  },
  {
   "cell_type": "code",
   "execution_count": 106,
   "metadata": {},
   "outputs": [
    {
     "name": "stdout",
     "output_type": "stream",
     "text": [
      "Table 'yearly_statistics' created successfully.\n"
     ]
    }
   ],
   "source": [
    "# Commit the changes\n",
    "conn.commit()\n",
    "\n",
    "# Print a message indicating the table creation\n",
    "print(\"Table 'yearly_statistics' created successfully.\")"
   ]
  },
  {
   "cell_type": "markdown",
   "metadata": {},
   "source": [
    "- **INSERT the countries and its region into the countries_data table from the original dataset**"
   ]
  },
  {
   "cell_type": "code",
   "execution_count": 11,
   "metadata": {},
   "outputs": [],
   "source": [
    "# SQL query to insert unique country and region data into countries_data\n",
    "insert_countries_data_query = '''\n",
    "    INSERT INTO countries_data (Country, Region)\n",
    "    SELECT DISTINCT \"country\", \"region\"\n",
    "    FROM public.\"original_data\";\n",
    "'''\n",
    "\n",
    "# Execute the INSERT query\n",
    "cur.execute(insert_countries_data_query)"
   ]
  },
  {
   "cell_type": "code",
   "execution_count": 12,
   "metadata": {},
   "outputs": [
    {
     "name": "stdout",
     "output_type": "stream",
     "text": [
      "Unique country and region data inserted into 'countries_data' table successfully.\n"
     ]
    }
   ],
   "source": [
    "# Commit the changes\n",
    "conn.commit()\n",
    "\n",
    "# Print a message indicating the insertion\n",
    "print(\"Unique country and region data inserted into 'countries_data' table successfully.\")"
   ]
  },
  {
   "cell_type": "markdown",
   "metadata": {},
   "source": [
    "- **INSERT the data from the original and other tables into the yearly_statistics Table**"
   ]
  },
  {
   "cell_type": "code",
   "execution_count": 12,
   "metadata": {},
   "outputs": [],
   "source": [
    "# Query to select data from countries_data table\n",
    "select_countries_query = '''\n",
    "    SELECT * FROM countries_data;\n",
    "'''\n",
    "\n",
    "# Query to select data from electricity_transaction table\n",
    "select_transaction_query = '''\n",
    "    SELECT * FROM electricity_transaction;\n",
    "'''\n",
    "\n",
    "# Execute the SELECT queries to fetch data\n",
    "cur.execute(select_countries_query)\n",
    "countries_data = cur.fetchall()\n",
    "\n",
    "cur.execute(select_transaction_query)\n",
    "electricity_transaction_data = cur.fetchall()"
   ]
  },
  {
   "cell_type": "code",
   "execution_count": 6,
   "metadata": {},
   "outputs": [],
   "source": [
    "# Create dictionaries from the fetched data\n",
    "# The structure of data is (CountryID, Country, Region) for countries_data\n",
    "country_id_dict = {(row[1].strip(' ')).lower(): row[0] for row in countries_data}\n",
    "\n",
    "# The structure of data is (TransactionID, TransactionType) for electricity_transaction\n",
    "transaction_id_dict = {(row[1].strip(' ')).lower(): row[0] for row in electricity_transaction_data}"
   ]
  },
  {
   "cell_type": "code",
   "execution_count": 58,
   "metadata": {},
   "outputs": [
    {
     "name": "stdout",
     "output_type": "stream",
     "text": [
      "CountryID to Country Info:\n",
      "{'egypt': 1, 'mozambique': 2, 'u.s. territories': 3, 'cook islands': 4, 'somalia': 5, 'samoa': 6, 'cabo verde': 7, 'colombia': 8, 'ethiopia': 9, 'wake island': 10, 'germany, west': 11, 'guinea': 12, 'greece': 13, 'guyana': 14, 'u.s. virgin islands': 15, 'haiti': 16, 'maldives': 17, 'thailand': 18, 'sierra leone': 19, 'guam': 20, 'moldova': 21, 'qatar': 22, 'lesotho': 23, 'armenia': 24, 'saint helena': 25, 'tonga': 26, 'french guiana': 27, 'aruba': 28, 'jordan': 29, 'bhutan': 30, 'argentina': 31, 'saint lucia': 32, 'equatorial guinea': 33, 'greenland': 34, 'iceland': 35, 'croatia': 36, 'ecuador': 37, 'kiribati': 38, 'benin': 39, 'guinea-bissau': 40, 'panama': 41, 'togo': 42, 'vanuatu': 43, 'congo-kinshasa': 44, 'saudi arabia': 45, 'niue': 46, 'austria': 47, 'morocco': 48, 'northern mariana islands': 49, 'cameroon': 50, 'brunei': 51, 'cayman islands': 52, 'vietnam': 53, 'former serbia and montenegro': 54, 'nicaragua': 55, 'saint pierre and miquelon': 56, 'sweden': 57, 'turkmenistan': 58, \"cote d'ivoire\": 59, 'faroe islands': 60, 'montenegro': 61, 'lebanon': 62, 'turks and caicos islands': 63, 'grenada': 64, 'costa rica': 65, 'former czechoslovakia': 66, 'ukraine': 67, 'zambia': 68, 'angola': 69, 'united states': 70, 'kyrgyzstan': 71, 'albania': 72, 'fiji': 73, 'madagascar': 74, 'montserrat': 75, 'botswana': 76, 'timor-leste': 77, 'slovakia': 78, 'barbados': 79, 'kazakhstan': 80, 'bahrain': 81, 'western sahara': 82, 'congo-brazzaville': 83, 'algeria': 84, 'gibraltar': 85, 'macau': 86, 'papua new guinea': 87, 'saint kitts and nevis': 88, 'philippines': 89, 'azerbaijan': 90, 'hong kong': 91, 'chile': 92, 'ireland': 93, 'saint vincent/grenadines': 94, 'tunisia': 95, 'antigua and barbuda': 96, 'seychelles': 97, 'ghana': 98, 'burundi': 99, 'luxembourg': 100, 'uzbekistan': 101, 'palestinian territories': 102, 'brazil': 103, 'suriname': 104, 'sudan': 105, 'pakistan': 106, 'uganda': 107, 'bosnia and herzegovina': 108, 'malawi': 109, 'hawaiian trade zone': 110, 'new zealand': 111, 'india': 112, 'bulgaria': 113, 'puerto rico': 114, 'netherlands': 115, 'burkina faso': 116, 'netherlands antilles': 117, 'south korea': 118, 'reunion': 119, 'switzerland': 120, 'slovenia': 121, 'tuvalu': 122, 'gabon': 123, 'south africa': 124, 'nigeria': 125, 'poland': 126, 'former u.s.s.r.': 127, 'sri lanka': 128, 'martinique': 129, 'jamaica': 130, 'malta': 131, 'norway': 132, 'united arab emirates': 133, 'micronesia': 134, 'uruguay': 135, 'taiwan': 136, 'rwanda': 137, 'guatemala': 138, 'comoros': 139, 'portugal': 140, 'japan': 141, 'dominican republic': 142, 'peru': 143, 'kuwait': 144, 'new caledonia': 145, 'afghanistan': 146, 'antarctica': 147, 'nauru': 148, 'israel': 149, 'paraguay': 150, 'nepal': 151, 'italy': 152, 'north korea': 153, 'american samoa': 154, 'burma': 155, 'germany, east': 156, 'syria': 157, 'canada': 158, 'niger': 159, 'guadeloupe': 160, 'north macedonia': 161, 'malaysia': 162, 'belize': 163, 'australia': 164, 'cambodia': 165, 'former yugoslavia': 166, 'eswatini': 167, 'falkland islands': 168, 'gambia, the': 169, 'romania': 170, 'belgium': 171, 'estonia': 172, 'eritrea': 173, 'serbia': 174, 'trinidad and tobago': 175, 'china': 176, 'bolivia': 177, 'south sudan': 178, 'bermuda': 179, 'lithuania': 180, 'sao tome and principe': 181, 'chad': 182, 'yemen': 183, 'russia': 184, 'bangladesh': 185, 'kenya': 186, 'u.s. pacific islands': 187, 'georgia': 188, 'el salvador': 189, 'united kingdom': 190, 'zimbabwe': 191, 'dominica': 192, 'cuba': 193, 'tanzania': 194, 'mauritius': 195, 'france': 196, 'honduras': 197, 'liberia': 198, 'french polynesia': 199, 'finland': 200, 'latvia': 201, 'mali': 202, 'kosovo': 203, 'the bahamas': 204, 'cyprus': 205, 'venezuela': 206, 'turkiye': 207, 'czechia': 208, 'laos': 209, 'germany': 210, 'singapore': 211, 'solomon islands': 212, 'tajikistan': 213, 'british virgin islands': 214, 'djibouti': 215, 'mexico': 216, 'hungary': 217, 'senegal': 218, 'belarus': 219, 'spain': 220, 'central african republic': 221, 'iran': 222, 'mongolia': 223, 'oman': 224, 'denmark': 225, 'namibia': 226, 'iraq': 227, 'indonesia': 228, 'mauritania': 229, 'libya': 230}\n",
      "\n",
      "TransactionID to Transaction Type:\n",
      "{'net generation': 1, 'net consumption': 2, 'imports': 3, 'exports': 4, 'net imports': 5, 'installed capacity': 6, 'distribution losses': 7}\n"
     ]
    }
   ],
   "source": [
    "# Print the created dictionaries\n",
    "print(\"CountryID to Country Info:\")\n",
    "print(country_id_dict)\n",
    "\n",
    "print(\"\\nTransactionID to Transaction Type:\")\n",
    "print(transaction_id_dict)"
   ]
  },
  {
   "cell_type": "code",
   "execution_count": 13,
   "metadata": {},
   "outputs": [],
   "source": [
    "# Loop through the DataFrame and insert data into yearly_statistics\n",
    "\n",
    "# Columns for each year in the format \"XXXX FLOAT\"\n",
    "year_columns = ', '.join([f'\"{col}\"' for col in columns[3:]])\n",
    "\n",
    "for index, row in df.iterrows():\n",
    "    # Get CountryID and TransactionID\n",
    "    country_id = country_id_dict.get((str(row['country'].lower()).strip(' ')))\n",
    "    transaction_id = transaction_id_dict.get((str(row['features'].lower()).strip(' ')))\n",
    "\n",
    "    if country_id is None or transaction_id is None:\n",
    "        print(f\"Skipping row {index + 1} - Country or Transaction type not found.\")\n",
    "        continue\n",
    "\n",
    "    # Extract the values for each year, replacing NaN with NULL\n",
    "    year_values = ', '.join([str(row[col]) if not pd.isnull(row[col]) else 'NULL' for col in columns[3:]])\n",
    "\n",
    "    # Construct the insert query\n",
    "    insert_yearly_statistics_query = f'''\n",
    "        INSERT INTO yearly_statistics (CountryID, TransactionID, {year_columns})\n",
    "        VALUES ({country_id}, {transaction_id}, {year_values});\n",
    "    '''\n",
    "\n",
    "    # Execute the INSERT query\n",
    "    cur.execute(insert_yearly_statistics_query)\n"
   ]
  },
  {
   "cell_type": "code",
   "execution_count": 96,
   "metadata": {},
   "outputs": [],
   "source": [
    "# Commit the changes\n",
    "conn.commit()"
   ]
  },
  {
   "cell_type": "markdown",
   "metadata": {},
   "source": [
    "- **Insert a new row into the database**"
   ]
  },
  {
   "cell_type": "code",
   "execution_count": 15,
   "metadata": {},
   "outputs": [],
   "source": [
    "import random\n",
    "\n",
    "# Get the CountryID for Germany\n",
    "country_id_query = \"SELECT countryid FROM countries_data WHERE TRIM(country) = TRIM('Germany')\"\n",
    "cur.execute(country_id_query)\n",
    "country_id = cur.fetchone()[0]\n",
    "\n",
    "# Get the TransactionID for Net Consumption\n",
    "transaction_id_query = \"SELECT transactionid FROM electricity_transaction WHERE transactiontype = 'Net Consumption'\"\n",
    "cur.execute(transaction_id_query)\n",
    "transaction_id = cur.fetchone()[0]\n",
    "\n",
    "# Columns for each year in the format \"XXXX FLOAT\"\n",
    "year_columns = ', '.join([f'\"{col}\"' for col in columns[3:]])\n",
    "\n",
    "# Generate random values for each year from 1980 to 2021\n",
    "random_year_values = ', '.join([str(round(random.uniform(10, 70), 2)) for _ in range(42)])\n",
    "\n",
    "# Construct the INSERT query\n",
    "insert_query = f\"\"\"\n",
    "    INSERT INTO yearly_statistics (CountryID, TransactionID, {year_columns})\n",
    "    VALUES ({country_id}, {transaction_id}, {random_year_values});\n",
    "\"\"\"\n",
    "\n",
    "# Execute the INSERT query\n",
    "cur.execute(insert_query)"
   ]
  },
  {
   "cell_type": "code",
   "execution_count": 16,
   "metadata": {},
   "outputs": [],
   "source": [
    "# Commit the changes\n",
    "conn.commit()"
   ]
  },
  {
   "cell_type": "code",
   "execution_count": null,
   "metadata": {},
   "outputs": [],
   "source": []
  }
 ],
 "metadata": {
  "kernelspec": {
   "display_name": "Python 3",
   "language": "python",
   "name": "python3"
  },
  "language_info": {
   "codemirror_mode": {
    "name": "ipython",
    "version": 3
   },
   "file_extension": ".py",
   "mimetype": "text/x-python",
   "name": "python",
   "nbconvert_exporter": "python",
   "pygments_lexer": "ipython3",
   "version": "3.11.4"
  }
 },
 "nbformat": 4,
 "nbformat_minor": 2
}
